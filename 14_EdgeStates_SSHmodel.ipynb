{
 "cells": [
  {
   "cell_type": "code",
   "execution_count": 1,
   "metadata": {},
   "outputs": [
    {
     "name": "stdout",
     "output_type": "stream",
     "text": [
      "Populating the interactive namespace from numpy and matplotlib\n"
     ]
    }
   ],
   "source": [
    "%pylab inline"
   ]
  },
  {
   "cell_type": "code",
   "execution_count": 2,
   "metadata": {},
   "outputs": [],
   "source": [
    "from ipywidgets import *\n",
    "import scipy.linalg\n",
    "import cubehelix #https://github.com/jradavenport/cubehelix"
   ]
  },
  {
   "cell_type": "code",
   "execution_count": 3,
   "metadata": {},
   "outputs": [],
   "source": [
    "mpl.rcParams.update({'font.size': 18, 'text.usetex': True})\n",
    "mpl.rcParams.update({'axes.linewidth':1.5})\n",
    "mpl.rcParams.update({'axes.labelsize':'large'})\n",
    "mpl.rcParams.update({'xtick.major.size':6})\n",
    "mpl.rcParams.update({'xtick.minor.size':4})\n",
    "mpl.rcParams.update({'ytick.major.size':6})\n",
    "mpl.rcParams.update({'ytick.minor.size':4})\n",
    "mpl.rcParams.update({'xtick.major.width':1.5})\n",
    "mpl.rcParams.update({'xtick.minor.width':1.0})\n",
    "mpl.rcParams.update({'ytick.major.width':1.5})\n",
    "mpl.rcParams.update({'ytick.minor.width':1.0})\n",
    "mpl.rcParams.update({'legend.frameon':False,'legend.framealpha':0.0})\n",
    "# mpl.rcParams.update({'axes.grid':True})"
   ]
  },
  {
   "cell_type": "code",
   "execution_count": 4,
   "metadata": {},
   "outputs": [],
   "source": [
    "def H_SSH_real_Alt3(L,v,w):\n",
    "    '''\n",
    "    Una función que construye una cadena SSH finita.\n",
    "    El número de celdas unitarias es L.\n",
    "    v es el parámetro de salto en la celda (intracell).\n",
    "    w es el parámetro de salto entre celdas (intercell).\n",
    "    '''\n",
    "    idL = eye(L,dtype=\"complex\");               # identity matrix of dimension L\n",
    "    odL = diag(ones(L-1),1);    # upper off diagonal matrix with ones of size L\n",
    "    U   = matrix([[0,1],[1,0]],dtype=\"complex\") # intracell\n",
    "    T   = matrix([[0,0],[1,0]],dtype=\"complex\") # intercell\n",
    "    return kron(idL,v*U)+kron(odL,w*T)+kron(odL,w*T).H"
   ]
  },
  {
   "cell_type": "code",
   "execution_count": 5,
   "metadata": {},
   "outputs": [],
   "source": [
    "v = 0.6; w =1.0; L = 10\n",
    "Ek,ψk = eig(H_SSH_real_Alt3(L,v,w))"
   ]
  },
  {
   "cell_type": "code",
   "execution_count": 15,
   "metadata": {},
   "outputs": [
    {
     "data": {
      "image/png": "[encoded data removed]",
      "text/plain": [
       "<Figure size 576x360 with 2 Axes>"
      ]
     },
     "metadata": {
      "needs_background": "light"
     },
     "output_type": "display_data"
    }
   ],
   "source": [
    "v = 0.5; w =1.0; L = 10\n",
    "Ek1,ψk2 = eig(H_SSH_real_Alt3(L,v,w))\n",
    "\n",
    "v = 1.0; w =0.5; L = 10\n",
    "Ek2,ψk2 = eig(H_SSH_real_Alt3(L,v,w))\n",
    "\n",
    "fig,ax = plt.subplots(ncols=2,nrows=1,figsize=(8,5))\n",
    "for E in Ek1:\n",
    "    ax[0].plot([0.4,0.6],[E.real,E.real],'k',alpha=0.8)\n",
    "for E in Ek2:\n",
    "    ax[1].plot([0.4,0.6],[E.real,E.real],'k',alpha=0.8)\n",
    "\n",
    "    \n",
    "ax[0].set_ylim(-2,2)\n",
    "ax[1].set_ylim(-2,2)\n",
    "\n",
    "ax[1].set_yticks([-2,-1,0,1,2]);\n",
    "ax[0].set_xticks([])\n",
    "ax[1].set_xticks([])\n",
    "ax[0].set_ylabel(r\"$E$\",rotation=0)\n",
    "fig.savefig(\"FiniteChain_ex.png\")"
   ]
  },
  {
   "cell_type": "code",
   "execution_count": 7,
   "metadata": {},
   "outputs": [
    {
     "data": {
      "application/vnd.jupyter.widget-view+json": {
       "model_id": "eaab2f6ad8e04992b1909dfc664cd933",
       "version_major": 2,
       "version_minor": 0
      },
      "text/plain": [
       "interactive(children=(IntSlider(value=10, description='n', max=19), Output()), _dom_classes=('widget-interact'…"
      ]
     },
     "metadata": {},
     "output_type": "display_data"
    }
   ],
   "source": [
    "@interact(n=(0,2*L-1))\n",
    "def PLOT_STATE(n=L):\n",
    "    \n",
    "    ψ = array( ψk[:, n] )\n",
    "    ψ2 = conjugate(ψ)*ψ\n",
    "    ψ2 = ψ2.transpose()[0]\n",
    "    ψ2 = ψ2.real\n",
    "    \n",
    "    fig,ax = plt.subplots(ncols=2,nrows=1,figsize=(12,5))\n",
    "    \n",
    "    x = arange(2*L)\n",
    "    ax[0].bar(x,ψ2)\n",
    "    ax[0].set_ylabel(r\"$|\\Psi|^2$\")\n",
    "    ax[0].set_xlabel(r\"$m$\")\n",
    "    \n",
    "    \n",
    "    for E in Ek:\n",
    "        ax[1].plot([0.4,0.6],[E.real,E.real],'k',alpha=0.6)\n",
    "    ax[1].plot([0.4,0.6],[Ek[n].real,Ek[n].real],'--r')\n",
    "        \n",
    "    ax[1].set_xlim(0,1)"
   ]
  },
  {
   "cell_type": "markdown",
   "metadata": {},
   "source": [
    "## Ordenar visualización"
   ]
  },
  {
   "cell_type": "code",
   "execution_count": 6,
   "metadata": {},
   "outputs": [
    {
     "name": "stdout",
     "output_type": "stream",
     "text": [
      "Checar parte imaginaria despreciable: []\n"
     ]
    }
   ],
   "source": [
    "v = 1.0; w =1.0; L = 20\n",
    "Ek,ψk = eig(H_SSH_real_Alt3(L,v,w))\n",
    "print( 'Checar parte imaginaria despreciable:', Ek[abs(Ek.imag)>1e-10] )\n",
    "Ek = Ek.real\n",
    "indx  = argsort(Ek)"
   ]
  },
  {
   "cell_type": "code",
   "execution_count": 7,
   "metadata": {},
   "outputs": [
    {
     "data": {
      "application/vnd.jupyter.widget-view+json": {
       "model_id": "eb95e239215d4bcbb80ae2f17531e22a",
       "version_major": 2,
       "version_minor": 0
      },
      "text/plain": [
       "interactive(children=(IntSlider(value=20, description='n', max=39), Output()), _dom_classes=('widget-interact'…"
      ]
     },
     "metadata": {},
     "output_type": "display_data"
    }
   ],
   "source": [
    "@interact(n=(0,2*L-1))\n",
    "def PLOT_STATE(n=L):\n",
    "    \n",
    "    ψ = array( ψk[:, indx[n]] )\n",
    "    ψ2 = conjugate(ψ)*ψ\n",
    "    ψ2 = ψ2.transpose()[0]\n",
    "    ψ2 = ψ2.real\n",
    "    \n",
    "    fig,ax = plt.subplots(ncols=2,nrows=1,figsize=(12,5))\n",
    "    \n",
    "    x = arange(2*L)\n",
    "    ax[0].bar(x,ψ2)\n",
    "    ax[0].set_ylabel(\"|ψ|²\")\n",
    "    ax[0].set_xlabel(\"m\")\n",
    "    \n",
    "    \n",
    "    for E in Ek:\n",
    "        ax[1].plot([0.4,0.6],[E,E],'k',alpha=0.6)\n",
    "    ax[1].plot([0.4,0.6],[Ek[indx[n]],Ek[indx[n]]],'--r')\n",
    "        \n",
    "    ax[1].set_xlim(0,1)"
   ]
  },
  {
   "cell_type": "markdown",
   "metadata": {},
   "source": [
    "## More"
   ]
  },
  {
   "cell_type": "code",
   "execution_count": 8,
   "metadata": {},
   "outputs": [],
   "source": [
    "v = 1.0; w =1.0; L = 20; nv = 600\n",
    "v_range = linspace(0,3,nv)\n",
    "Eeigen = []\n",
    "IPR    = []\n",
    "for v in v_range:\n",
    "    Ek,ψk = scipy.linalg.eig(H_SSH_real_Alt3(L,v,w))\n",
    "    # print( 'Checar parte imaginaria despreciable:', Ek[abs(Ek.imag)>1e-10] )\n",
    "    Ek = Ek.real\n",
    "    indx  = argsort(Ek)\n",
    "    Eeigen.append( Ek[indx] )\n",
    "    \n",
    "    currentipc = []\n",
    "    for uk in ψk.T:\n",
    "        tempipc = np.sum(np.abs(uk)**4.0)/(np.vdot(uk,uk))**2.0\n",
    "        currentipc.append(tempipc)\n",
    "    currentipc = array(currentipc)\n",
    "    IPR.append(currentipc[indx])\n",
    "IPR = array(IPR).T   \n",
    "Eeigen = array(Eeigen).T"
   ]
  },
  {
   "cell_type": "code",
   "execution_count": 145,
   "metadata": {},
   "outputs": [
    {
     "data": {
      "image/png": "[encoded data removed]",
      "text/plain": [
       "<Figure size 360x360 with 1 Axes>"
      ]
     },
     "metadata": {
      "needs_background": "light"
     },
     "output_type": "display_data"
    }
   ],
   "source": [
    "newcmap = cubehelix.cmap(reverse=True, start=-0.5, rot=0.3)\n",
    "\n",
    "fig,ax = plt.subplots(ncols=1,nrows=1,figsize=(5,5))\n",
    "y  = Eeigen\n",
    "sh = shape(y)\n",
    "zmin = np.log(0.5/L); zmax = np.log(0.5)\n",
    "x  = v_range.repeat(2*L).reshape(nv,2*L).T\n",
    "z  = IPR.real\n",
    "#sc = ax.scatter(x,y,s=4.0,c=float32(z),edgecolors='none',cmap='Blues')\n",
    "ax.scatter(x,y,s=2.0,c='k',edgecolors='none')\n",
    "ax.set_ylim(-3,3)\n",
    "ax.set_xlabel(r\"$v/w$\");\n",
    "ax.set_ylabel(r'$E$',rotation=0);\n",
    "ax.set_yticks([-2,0,2]);\n",
    "fig.tight_layout()\n",
    "fig.savefig('finite_v.png')"
   ]
  },
  {
   "cell_type": "code",
   "execution_count": 146,
   "metadata": {},
   "outputs": [
    {
     "data": {
      "image/png": "[encoded data removed]",
      "text/plain": [
       "<Figure size 360x360 with 2 Axes>"
      ]
     },
     "metadata": {
      "needs_background": "light"
     },
     "output_type": "display_data"
    }
   ],
   "source": [
    "newcmap = cubehelix.cmap(reverse=True, start=-0.5, rot=0.3)\n",
    "\n",
    "fig,ax = plt.subplots(ncols=1,nrows=1,figsize=(5,5))\n",
    "y  = Eeigen\n",
    "sh = shape(y)\n",
    "x  = v_range.repeat(2*L).reshape(nv,2*L).T\n",
    "z  = log( IPR.real )\n",
    "sc=ax.scatter(x,y,s=2.0,c=float32(z),edgecolors='none',cmap=newcmap)\n",
    "ax.set_ylim(-3,3)\n",
    "ax.set_xlabel(r\"$v/w$\");\n",
    "ax.set_ylabel(r'$E$',rotation=0);\n",
    "ax.set_yticks([-2,0,2]);\n",
    "fig.tight_layout()\n",
    "cax  = fig.add_axes([0.17, 0.96, 0.78, 0.05])\n",
    "cbar = fig.colorbar(sc,cax=cax,orientation='horizontal')\n",
    "cbar.ax.xaxis.set_ticks_position('top')\n",
    "cbar.set_label(r\"${\\rm IPR}$\",labelpad=-50,x=0.95)\n",
    "norm = mpl.colors.Normalize(vmin=np.log(0.5/L),vmax=np.log(1.0/2.0))\n",
    "cbar.set_ticks( np.log(np.array( [1.0/L,0.125,0.25,1.0/2.0001])) )\n",
    "cbar.set_ticklabels([r\"$1/L$\",r\"$1/8$\",r\"$1/4$\",r\"$1/2$\"])\n",
    "fig.savefig('finite_v_IPR.png',bbox_inches='tight')"
   ]
  },
  {
   "cell_type": "code",
   "execution_count": 142,
   "metadata": {},
   "outputs": [
    {
     "data": {
      "image/png": "[encoded data removed]",
      "text/plain": [
       "<Figure size 360x180 with 1 Axes>"
      ]
     },
     "metadata": {
      "needs_background": "light"
     },
     "output_type": "display_data"
    }
   ],
   "source": [
    "L=20; n=20\n",
    "w = 1; v= 0.5\n",
    "Ek,ψk = scipy.linalg.eig(H_SSH_real_Alt3(L,v,w))\n",
    "\n",
    "fig,ax = plt.subplots(ncols=1,nrows=1,figsize=(5,2.5))\n",
    "ψ = array( ψk.T[n] )\n",
    "ψ2 = conjugate(ψ)*ψ\n",
    "ψ2 = ψ2.transpose()\n",
    "ψ2 = ψ2.real\n",
    "\n",
    "x = arange(2*L)/2\n",
    "ax.bar(x[0::2],ψ2[0::2],color='r',width=0.5)\n",
    "ax.bar(x[1::2],ψ2[1::2],color='b',width=0.5)\n",
    "\n",
    "ax.set_ylabel(r\"$|\\Psi|^2$\");\n",
    "ax.set_xlabel(r\"$n$\");\n",
    "ax.set_ylim(0,0.4)\n",
    "ax.set_yticks([0,0.2,0.4]);\n",
    "fig.tight_layout()\n",
    "fig.savefig('finite_edge20.png')"
   ]
  },
  {
   "cell_type": "code",
   "execution_count": 143,
   "metadata": {},
   "outputs": [
    {
     "data": {
      "image/png": "[encoded data removed]",
      "text/plain": [
       "<Figure size 360x180 with 1 Axes>"
      ]
     },
     "metadata": {
      "needs_background": "light"
     },
     "output_type": "display_data"
    }
   ],
   "source": [
    "L=20; n=19\n",
    "w = 1; v= 0.5\n",
    "Ek,ψk = scipy.linalg.eig(H_SSH_real_Alt3(L,v,w))\n",
    "\n",
    "fig,ax = plt.subplots(ncols=1,nrows=1,figsize=(5,2.5))\n",
    "ψ = array( ψk.T[n] )\n",
    "ψ2 = conjugate(ψ)*ψ\n",
    "ψ2 = ψ2.transpose()\n",
    "ψ2 = ψ2.real\n",
    "\n",
    "x = arange(2*L)/2\n",
    "ax.bar(x[0::2],ψ2[0::2],color='r',width=0.5)\n",
    "ax.bar(x[1::2],ψ2[1::2],color='b',width=0.5)\n",
    "\n",
    "ax.set_ylabel(r\"$|\\Psi|^2$\");\n",
    "ax.set_xlabel(r\"$n$\");\n",
    "ax.set_ylim(0,0.4)\n",
    "ax.set_yticks([0,0.2,0.4]);\n",
    "fig.tight_layout()\n",
    "fig.savefig('finite_edge19.png')"
   ]
  },
  {
   "cell_type": "code",
   "execution_count": 144,
   "metadata": {},
   "outputs": [
    {
     "data": {
      "image/png": "[encoded data removed]",
      "text/plain": [
       "<Figure size 360x180 with 1 Axes>"
      ]
     },
     "metadata": {
      "needs_background": "light"
     },
     "output_type": "display_data"
    }
   ],
   "source": [
    "L=20; n=3\n",
    "w = 1; v= 0.5\n",
    "Ek,ψk = scipy.linalg.eig(H_SSH_real_Alt3(L,v,w))\n",
    "\n",
    "fig,ax = plt.subplots(ncols=1,nrows=1,figsize=(5,2.5))\n",
    "ψ = array( ψk.T[n] )\n",
    "ψ2 = conjugate(ψ)*ψ\n",
    "ψ2 = ψ2.transpose()\n",
    "ψ2 = ψ2.real\n",
    "\n",
    "x = arange(2*L)/2\n",
    "ax.bar(x[0::2],ψ2[0::2],color='r',width=0.5)\n",
    "ax.bar(x[1::2],ψ2[1::2],color='b',width=0.5)\n",
    "\n",
    "ax.set_ylabel(r\"$|\\Psi|^2$\");\n",
    "ax.set_xlabel(r\"$n$\");\n",
    "ax.set_ylim(0,0.2)\n",
    "ax.set_yticks([0,0.2]);\n",
    "fig.tight_layout()\n",
    "fig.savefig('finite_edge3.png')"
   ]
  },
  {
   "cell_type": "code",
   "execution_count": null,
   "metadata": {},
   "outputs": [],
   "source": []
  },
  {
   "cell_type": "code",
   "execution_count": null,
   "metadata": {},
   "outputs": [],
   "source": []
  },
  {
   "cell_type": "code",
   "execution_count": null,
   "metadata": {},
   "outputs": [],
   "source": []
  },
  {
   "cell_type": "code",
   "execution_count": null,
   "metadata": {},
   "outputs": [],
   "source": []
  },
  {
   "cell_type": "markdown",
   "metadata": {},
   "source": [
    "## Alternativa de visualización"
   ]
  },
  {
   "cell_type": "code",
   "execution_count": 14,
   "metadata": {},
   "outputs": [],
   "source": [
    "import cubehelix #https://github.com/jradavenport/cubehelix"
   ]
  },
  {
   "cell_type": "code",
   "execution_count": null,
   "metadata": {},
   "outputs": [],
   "source": []
  },
  {
   "cell_type": "code",
   "execution_count": 15,
   "metadata": {},
   "outputs": [
    {
     "name": "stdout",
     "output_type": "stream",
     "text": [
      "Checar parte imaginaria despreciable: []\n",
      "CPU times: user 208 ms, sys: 3.87 ms, total: 211 ms\n",
      "Wall time: 114 ms\n"
     ]
    }
   ],
   "source": [
    "%%time\n",
    "\n",
    "v = 0.6; w =1.0; L = 100\n",
    "Ek,ψk = eig(H_SSH_real_Alt3(L,v,w))\n",
    "print( 'Checar parte imaginaria despreciable:', Ek[abs(Ek.imag)>1e-10] )\n",
    "Ek = Ek.real\n",
    "indx  = argsort(Ek)"
   ]
  },
  {
   "cell_type": "code",
   "execution_count": 16,
   "metadata": {},
   "outputs": [
    {
     "data": {
      "application/vnd.jupyter.widget-view+json": {
       "model_id": "51b4dc3c8e9f4adb9bac45f908890a80",
       "version_major": 2,
       "version_minor": 0
      },
      "text/plain": [
       "interactive(children=(IntSlider(value=100, description='n', max=199), Output()), _dom_classes=('widget-interac…"
      ]
     },
     "metadata": {},
     "output_type": "display_data"
    }
   ],
   "source": [
    "newcmap = cubehelix.cmap(reverse=True, start=-0.5, rot=0.3)\n",
    "\n",
    "@interact(n=(0,2*L-1))\n",
    "def PLOT_STATE(n=L):\n",
    "    \n",
    "    ψ = array( ψk[:, indx[n]] )\n",
    "    ψ2 = conjugate(ψ)*ψ\n",
    "    ψ2 = ψ2.transpose()[0]\n",
    "    ψ2 = ψ2.real\n",
    "    \n",
    "    indxψ2 = argsort(ψ2)\n",
    "    \n",
    "    fig,ax = plt.subplots(ncols=1,nrows=1,figsize=(12,2))\n",
    "    \n",
    "    x = arange(2*L)\n",
    "\n",
    "    ax.scatter(x[indxψ2],zeros(2*L),s=40,c=np.float32(ψ2[indxψ2]),\n",
    "               edgecolors='none',cmap=newcmap)\n",
    "    ax.set_ylim(-1e-6,1e-6)\n",
    "    \n",
    "    ax.axis('off')\n",
    "    \n",
    "    ax.plot([-2,-2],[-1e-7,1e-7],'k')\n",
    "    ax.plot([2*L+1,2*L+1],[-1e-7,1e-7],'k')\n",
    "    \n",
    "    ax.set_title(\"Ek={0:.2f}\".format(Ek[indx[n]]))\n",
    "\n",
    "    # ax[0].set_ylabel(\"|ψ|²\")\n",
    "    # ax[0].set_xlabel(\"m\")\n",
    "    \n",
    "    \n",
    "    #for E in Ek:\n",
    "    #    ax[1].plot([0.4,0.6],[E,E],'k',alpha=0.6)\n",
    "    #ax[1].plot([0.4,0.6],[Ek[indx[n]],Ek[indx[n]]],'--r')\n",
    "        \n",
    "    #ax[1].set_xlim(0,1)"
   ]
  },
  {
   "cell_type": "markdown",
   "metadata": {},
   "source": [
    "## Densidad de estados"
   ]
  },
  {
   "cell_type": "code",
   "execution_count": 17,
   "metadata": {},
   "outputs": [
    {
     "name": "stdout",
     "output_type": "stream",
     "text": [
      "Checar parte imaginaria despreciable: []\n",
      "CPU times: user 28.8 s, sys: 344 ms, total: 29.2 s\n",
      "Wall time: 14.9 s\n"
     ]
    }
   ],
   "source": [
    "%%time\n",
    "\n",
    "v = 0.6; w =1.0; L = 1000\n",
    "Ek,ψk = eig(H_SSH_real_Alt3(L,v,w))\n",
    "print( 'Checar parte imaginaria despreciable:', Ek[abs(Ek.imag)>1e-10] )\n",
    "Ek = Ek.real"
   ]
  },
  {
   "cell_type": "code",
   "execution_count": 18,
   "metadata": {},
   "outputs": [
    {
     "data": {
      "text/plain": [
       "Text(0, 0.5, 'DOS(E)')"
      ]
     },
     "execution_count": 18,
     "metadata": {},
     "output_type": "execute_result"
    },
    {
     "data": {
      "image/png": "[encoded data removed]",
      "text/plain": [
       "<Figure size 360x360 with 1 Axes>"
      ]
     },
     "metadata": {
      "needs_background": "light"
     },
     "output_type": "display_data"
    }
   ],
   "source": [
    "fig,ax = plt.subplots(ncols=1,nrows=1,figsize=(5,5))\n",
    "ax.hist(Ek, 40,density=True);\n",
    "ax.set_xlabel('E')\n",
    "ax.set_ylabel('DOS(E)')"
   ]
  },
  {
   "cell_type": "code",
   "execution_count": null,
   "metadata": {},
   "outputs": [],
   "source": []
  },
  {
   "cell_type": "code",
   "execution_count": null,
   "metadata": {},
   "outputs": [],
   "source": []
  },
  {
   "cell_type": "code",
   "execution_count": null,
   "metadata": {},
   "outputs": [],
   "source": []
  }
 ],
 "metadata": {
  "kernelspec": {
   "display_name": "Python 3",
   "language": "python",
   "name": "python3"
  },
  "language_info": {
   "codemirror_mode": {
    "name": "ipython",
    "version": 3
   },
   "file_extension": ".py",
   "mimetype": "text/x-python",
   "name": "python",
   "nbconvert_exporter": "python",
   "pygments_lexer": "ipython3",
   "version": "3.7.4"
  },
  "latex_envs": {
   "LaTeX_envs_menu_present": true,
   "autoclose": false,
   "autocomplete": false,
   "bibliofile": "biblio.bib",
   "cite_by": "apalike",
   "current_citInitial": 1,
   "eqLabelWithNumbers": true,
   "eqNumInitial": 1,
   "hotkeys": {
    "equation": "Ctrl-E",
    "itemize": "Ctrl-I"
   },
   "labels_anchors": false,
   "latex_user_defs": false,
   "report_style_numbering": false,
   "user_envs_cfg": false
  },
  "toc": {
   "base_numbering": 1,
   "nav_menu": {},
   "number_sections": true,
   "sideBar": true,
   "skip_h1_title": false,
   "title_cell": "Table of Contents",
   "title_sidebar": "Contents",
   "toc_cell": false,
   "toc_position": {},
   "toc_section_display": true,
   "toc_window_display": false
  },
  "varInspector": {
   "cols": {
    "lenName": 16,
    "lenType": 16,
    "lenVar": 40
   },
   "kernels_config": {
    "python": {
     "delete_cmd_postfix": "",
     "delete_cmd_prefix": "del ",
     "library": "var_list.py",
     "varRefreshCmd": "print(var_dic_list())"
    },
    "r": {
     "delete_cmd_postfix": ") ",
     "delete_cmd_prefix": "rm(",
     "library": "var_list.r",
     "varRefreshCmd": "cat(var_dic_list()) "
    }
   },
   "types_to_exclude": [
    "module",
    "function",
    "builtin_function_or_method",
    "instance",
    "_Feature"
   ],
   "window_display": false
  }
 },
 "nbformat": 4,
 "nbformat_minor": 2
}
