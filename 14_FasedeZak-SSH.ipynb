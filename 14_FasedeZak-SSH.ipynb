{
 "cells": [
  {
   "cell_type": "code",
   "execution_count": 1,
   "metadata": {},
   "outputs": [
    {
     "name": "stdout",
     "output_type": "stream",
     "text": [
      "Populating the interactive namespace from numpy and matplotlib\n"
     ]
    }
   ],
   "source": [
    "%pylab inline"
   ]
  },
  {
   "cell_type": "code",
   "execution_count": 2,
   "metadata": {},
   "outputs": [],
   "source": [
    "mpl.rcParams.update({'font.size': 18, 'text.usetex': True})\n",
    "mpl.rcParams.update({'axes.linewidth':1.5})\n",
    "mpl.rcParams.update({'axes.labelsize':'large'})\n",
    "mpl.rcParams.update({'xtick.major.size':6})\n",
    "mpl.rcParams.update({'xtick.minor.size':4})\n",
    "mpl.rcParams.update({'ytick.major.size':6})\n",
    "mpl.rcParams.update({'ytick.minor.size':4})\n",
    "mpl.rcParams.update({'xtick.major.width':1.5})\n",
    "mpl.rcParams.update({'xtick.minor.width':1.0})\n",
    "mpl.rcParams.update({'ytick.major.width':1.5})\n",
    "mpl.rcParams.update({'ytick.minor.width':1.0})\n",
    "mpl.rcParams.update({'legend.frameon':False,'legend.framealpha':0.0})\n",
    "# mpl.rcParams.update({'axes.grid':True})"
   ]
  },
  {
   "cell_type": "markdown",
   "metadata": {},
   "source": [
    "## Modelo SSH\n",
    "\n",
    "\\begin{eqnarray}\n",
    "H(k) = \\left[\n",
    "\\begin{array}{cc}\n",
    "0& v+we^{-ik}\\\\\n",
    "v+we^{ik}&0\n",
    "\\end{array}\n",
    "\\right]\n",
    "\\end{eqnarray}"
   ]
  },
  {
   "cell_type": "code",
   "execution_count": 3,
   "metadata": {},
   "outputs": [],
   "source": [
    "def HamSSH(k,v=0.5,w=1.0):\n",
    "    H = np.array([[0,v+w*exp(-1J*k)],\n",
    "                  [v+w*exp(1J*k),0]])\n",
    "    return H"
   ]
  },
  {
   "cell_type": "markdown",
   "metadata": {},
   "source": [
    "## Estructura de Bandas"
   ]
  },
  {
   "cell_type": "code",
   "execution_count": 60,
   "metadata": {},
   "outputs": [
    {
     "data": {
      "image/png": "[encoded data removed]",
      "text/plain": [
       "<Figure size 288x288 with 1 Axes>"
      ]
     },
     "metadata": {
      "needs_background": "light"
     },
     "output_type": "display_data"
    }
   ],
   "source": [
    "v = 1.0; w = 0.5\n",
    "kpath = linspace(-pi,pi,1000)\n",
    "E = []\n",
    "for k in kpath:\n",
    "    H     = HamSSH(k,v,w)\n",
    "    Ek,vk = eigh(H)\n",
    "    E.append(Ek)\n",
    "E = array(E)\n",
    "\n",
    "fig,ax = plt.subplots(ncols=1,nrows=1,figsize=(4,4))\n",
    "ax.plot(kpath,E.T[0],c='b',lw=4)\n",
    "ax.plot(kpath,E.T[1],c='b',lw=4)\n",
    "ax.set_xlabel(r'$k$');\n",
    "ax.set_ylabel(r'$E$');\n",
    "ax.set_xticks([-pi,0,pi]);\n",
    "ax.set_xticklabels([r'$-\\pi$',r'$0$',r'$\\pi$']);\n",
    "ax.set_yticks([-2,0,2]);\n",
    "fig.tight_layout()\n",
    "fig.savefig(\"Bandas1.png\")"
   ]
  },
  {
   "cell_type": "code",
   "execution_count": 61,
   "metadata": {},
   "outputs": [
    {
     "data": {
      "image/png": "[encoded data removed]",
      "text/plain": [
       "<Figure size 288x288 with 1 Axes>"
      ]
     },
     "metadata": {
      "needs_background": "light"
     },
     "output_type": "display_data"
    }
   ],
   "source": [
    "v = 1.0; w = 1.0\n",
    "kpath = linspace(-pi,pi,1000)\n",
    "E = []\n",
    "for k in kpath:\n",
    "    H     = HamSSH(k,v,w)\n",
    "    Ek,vk = eigh(H)\n",
    "    E.append(Ek)\n",
    "E = array(E)\n",
    "\n",
    "fig,ax = plt.subplots(ncols=1,nrows=1,figsize=(4,4))\n",
    "ax.plot(kpath,E.T[0],c='b',lw=4)\n",
    "ax.plot(kpath,E.T[1],c='b',lw=4)\n",
    "ax.set_xlabel(r'$k$');\n",
    "ax.set_ylabel(r'$E$');\n",
    "ax.set_xticks([-pi,0,pi]);\n",
    "ax.set_xticklabels([r'$-\\pi$',r'$0$',r'$\\pi$']);\n",
    "ax.set_yticks([-2,0,2]);\n",
    "fig.tight_layout()\n",
    "fig.savefig(\"Bandas2.png\")"
   ]
  },
  {
   "cell_type": "code",
   "execution_count": 62,
   "metadata": {},
   "outputs": [
    {
     "data": {
      "image/png": "[encoded data removed]",
      "text/plain": [
       "<Figure size 288x288 with 1 Axes>"
      ]
     },
     "metadata": {
      "needs_background": "light"
     },
     "output_type": "display_data"
    }
   ],
   "source": [
    "v = 0.5; w = 1.0\n",
    "kpath = linspace(-pi,pi,1000)\n",
    "E = []\n",
    "for k in kpath:\n",
    "    H     = HamSSH(k,v,w)\n",
    "    Ek,vk = eigh(H)\n",
    "    E.append(Ek)\n",
    "E = array(E)\n",
    "\n",
    "fig,ax = plt.subplots(ncols=1,nrows=1,figsize=(4,4))\n",
    "ax.plot(kpath,E.T[0],c='b',lw=4)\n",
    "ax.plot(kpath,E.T[1],c='b',lw=4)\n",
    "ax.set_xlabel(r'$k$');\n",
    "ax.set_ylabel(r'$E$');\n",
    "ax.set_xticks([-pi,0,pi]);\n",
    "ax.set_xticklabels([r'$-\\pi$',r'$0$',r'$\\pi$']);\n",
    "ax.set_yticks([-2,0,2]);\n",
    "fig.tight_layout()\n",
    "fig.savefig(\"Bandas3.png\")"
   ]
  },
  {
   "cell_type": "code",
   "execution_count": null,
   "metadata": {},
   "outputs": [],
   "source": []
  },
  {
   "cell_type": "code",
   "execution_count": 4,
   "metadata": {},
   "outputs": [],
   "source": [
    "def GetPhase(v,w):\n",
    "    kpath = linspace(-pi,pi,1000)\n",
    "\n",
    "    Ek,vk = eigh(HamSSH(kpath[0],v,w))\n",
    "    u0    = vk.T[Ek<0]\n",
    "    Ek,vk = eigh(HamSSH(kpath[1],v,w))\n",
    "    u1    = vk.T[Ek<0]\n",
    "    Prod  = np.vdot(u0,u1)\n",
    "\n",
    "    un1   = u1\n",
    "    for k in kpath[2:]:\n",
    "        H     = HamSSH(k,v,w)\n",
    "        Ek,vk = eigh(H)\n",
    "        un    = vk.T[Ek<0]\n",
    "        Prod *= np.vdot(un1,un)\n",
    "        # Update\n",
    "        un1   = un\n",
    "    ϕ = imag( log(Prod) )\n",
    "    \n",
    "    return ϕ"
   ]
  },
  {
   "cell_type": "code",
   "execution_count": 5,
   "metadata": {},
   "outputs": [],
   "source": [
    "w = 1.0\n",
    "vpath = linspace(0,3.0,80)\n",
    "ϕv    = []\n",
    "for v in vpath:\n",
    "    ϕ = GetPhase(v,w)\n",
    "    ϕv.append( abs(ϕ) )\n"
   ]
  },
  {
   "cell_type": "code",
   "execution_count": 9,
   "metadata": {},
   "outputs": [
    {
     "data": {
      "image/png": "[encoded data removed]",
      "text/plain": [
       "<Figure size 288x288 with 1 Axes>"
      ]
     },
     "metadata": {
      "needs_background": "light"
     },
     "output_type": "display_data"
    }
   ],
   "source": [
    "fig, axes = plt.subplots(ncols=1,nrows=1,figsize=(4.0,4.0))\n",
    "axes.scatter(vpath,ϕv,alpha=0.6,facecolors='none',edgecolors='b')\n",
    "axes.set_xlabel(r\"$v/w$\",size=24)\n",
    "axes.set_ylabel(r'$\\phi$',size=24)\n",
    "axes.set_yticks([0,pi])\n",
    "axes.plot([1,1],[-1,1.1*pi],'--',c='k')\n",
    "# axes.plot([-1,-1],[-1,1.1*pi],'--',c='k')\n",
    "axes.set_yticks([0,pi])\n",
    "axes.set_ylim(-0.2,pi+0.2)\n",
    "axes.set_yticklabels([r'$0$',r'$\\pi$'])\n",
    "fig.tight_layout()\n",
    "fig.savefig('zak.png')"
   ]
  },
  {
   "cell_type": "code",
   "execution_count": null,
   "metadata": {},
   "outputs": [],
   "source": []
  }
 ],
 "metadata": {
  "kernelspec": {
   "display_name": "Python 3",
   "language": "python",
   "name": "python3"
  },
  "language_info": {
   "codemirror_mode": {
    "name": "ipython",
    "version": 3
   },
   "file_extension": ".py",
   "mimetype": "text/x-python",
   "name": "python",
   "nbconvert_exporter": "python",
   "pygments_lexer": "ipython3",
   "version": "3.7.4"
  },
  "latex_envs": {
   "LaTeX_envs_menu_present": true,
   "autoclose": false,
   "autocomplete": false,
   "bibliofile": "biblio.bib",
   "cite_by": "apalike",
   "current_citInitial": 1,
   "eqLabelWithNumbers": true,
   "eqNumInitial": 1,
   "hotkeys": {
    "equation": "Ctrl-E",
    "itemize": "Ctrl-I"
   },
   "labels_anchors": false,
   "latex_user_defs": false,
   "report_style_numbering": false,
   "user_envs_cfg": false
  },
  "toc": {
   "base_numbering": 1,
   "nav_menu": {},
   "number_sections": true,
   "sideBar": true,
   "skip_h1_title": false,
   "title_cell": "Table of Contents",
   "title_sidebar": "Contents",
   "toc_cell": false,
   "toc_position": {},
   "toc_section_display": true,
   "toc_window_display": false
  },
  "varInspector": {
   "cols": {
    "lenName": 16,
    "lenType": 16,
    "lenVar": 40
   },
   "kernels_config": {
    "python": {
     "delete_cmd_postfix": "",
     "delete_cmd_prefix": "del ",
     "library": "var_list.py",
     "varRefreshCmd": "print(var_dic_list())"
    },
    "r": {
     "delete_cmd_postfix": ") ",
     "delete_cmd_prefix": "rm(",
     "library": "var_list.r",
     "varRefreshCmd": "cat(var_dic_list()) "
    }
   },
   "types_to_exclude": [
    "module",
    "function",
    "builtin_function_or_method",
    "instance",
    "_Feature"
   ],
   "window_display": false
  }
 },
 "nbformat": 4,
 "nbformat_minor": 2
}
